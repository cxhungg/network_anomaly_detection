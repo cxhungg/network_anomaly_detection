{
 "cells": [
  {
   "cell_type": "code",
   "execution_count": null,
   "metadata": {},
   "outputs": [],
   "source": [
    "import pandas as pd\n",
    "import numpy as np\n",
    "import os\n",
    "from pathlib import Path\n",
    "\n",
    "data_dir = Path('../data')\n",
    "csv_files = list(data_dir.glob('*.csv'))\n",
    "\n",
    "print(f\"Found {len(csv_files)} CSV files:\")\n",
    "for file in csv_files:\n",
    "    print(f\"  - {file.name}\")"
   ]
  },
  {
   "cell_type": "code",
   "execution_count": null,
   "metadata": {},
   "outputs": [],
   "source": [
    "\n",
    "for file in csv_files:\n",
    "    print(f\"\\n{'='*60}\")\n",
    "    print(f\"File: {file.name}\")\n",
    "    print(f\"{'='*60}\")\n",
    "    \n",
    "    try:\n",
    "        df_sample = pd.read_csv(file, nrows=5)\n",
    "        \n",
    "        print(f\"Shape: {df_sample.shape}\")\n",
    "        print(f\"\\nColumns:\")\n",
    "        for i, col in enumerate(df_sample.columns):\n",
    "            print(f\"  {i+1:2d}. {col}\")\n",
    "        \n",
    "        print(f\"\\nData types:\")\n",
    "        print(df_sample.dtypes)\n",
    "        \n",
    "        print(f\"\\nFirst few rows:\")\n",
    "        print(df_sample.head())\n",
    "        \n",
    "    except Exception as e:\n",
    "        print(f\"Error reading {file.name}: {e}\")"
   ]
  },
  {
   "cell_type": "code",
   "execution_count": null,
   "metadata": {},
   "outputs": [],
   "source": [
    "# Check for missing values in one file as an example\n",
    "sample_file = csv_files[0]\n",
    "print(f\"Checking missing values in {sample_file.name}\")\n",
    "\n",
    "df_sample = pd.read_csv(sample_file, nrows=1000)  # Load 1000 rows for analysis\n",
    "\n",
    "print(f\"\\nMissing values per column:\")\n",
    "missing_counts = df_sample.isnull().sum()\n",
    "print(missing_counts[missing_counts > 0])\n",
    "\n",
    "if missing_counts.sum() == 0:\n",
    "    print(\"\\nNo missing values found in the sample.\")"
   ]
  },
  {
   "cell_type": "code",
   "execution_count": null,
   "metadata": {},
   "outputs": [],
   "source": [
    "# Check for unique values in categorical columns\n",
    "print(f\"\\nUnique values in categorical columns:\")\n",
    "for col in df_sample.select_dtypes(include=['object']).columns:\n",
    "    unique_vals = df_sample[col].unique()\n",
    "    print(f\"\\n{col}: {len(unique_vals)} unique values\")\n",
    "    if len(unique_vals) <= 10:\n",
    "        print(f\"  Values: {unique_vals}\")\n",
    "    else:\n",
    "        print(f\"  First 10 values: {unique_vals[:10]}\")"
   ]
  },
  {
   "cell_type": "code",
   "execution_count": null,
   "metadata": {},
   "outputs": [],
   "source": [
    "# Basic statistics for numerical columns\n",
    "print(f\"\\nBasic statistics for numerical columns:\")\n",
    "numerical_cols = df_sample.select_dtypes(include=[np.number]).columns\n",
    "print(df_sample[numerical_cols].describe())"
   ]
  }
 ],
 "metadata": {
  "kernelspec": {
   "display_name": "venv",
   "language": "python",
   "name": "python3"
  },
  "language_info": {
   "codemirror_mode": {
    "name": "ipython",
    "version": 3
   },
   "file_extension": ".py",
   "mimetype": "text/x-python",
   "name": "python",
   "nbconvert_exporter": "python",
   "pygments_lexer": "ipython3",
   "version": "3.12.8"
  }
 },
 "nbformat": 4,
 "nbformat_minor": 2
}
